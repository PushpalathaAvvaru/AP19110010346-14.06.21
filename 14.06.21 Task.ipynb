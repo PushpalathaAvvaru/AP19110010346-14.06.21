{
 "cells": [
  {
   "cell_type": "code",
   "execution_count": 6,
   "id": "d9a0344c",
   "metadata": {},
   "outputs": [],
   "source": [
    "import re"
   ]
  },
  {
   "cell_type": "code",
   "execution_count": 8,
   "id": "0db989a5",
   "metadata": {},
   "outputs": [
    {
     "name": "stdout",
     "output_type": "stream",
     "text": [
      "5841\n",
      "1234\n",
      "8797\n"
     ]
    }
   ],
   "source": [
    "##1)Task 1: Write a pattern to display 4 digit numbers from list1\n",
    "list1 = ['5841', '987654321', '453267', '1234', '675', '8797']\n",
    "for i in list1:\n",
    "    if re.findall('^[0-9]{4}$',i):\n",
    "        print(i)\n"
   ]
  },
  {
   "cell_type": "code",
   "execution_count": 9,
   "id": "930d440f",
   "metadata": {},
   "outputs": [
    {
     "name": "stdout",
     "output_type": "stream",
     "text": [
      "7995694959\n",
      "6789352435\n"
     ]
    }
   ],
   "source": [
    "##Task 2: Validate a phone number using patterns. Try to do this task using below pattern or your own pattern\n",
    "phn_list=['7995694959','81345','6789352435']  \n",
    "for i in phn_list:\n",
    "    if re.findall('[6-9]{1}[0-9]{9}$',i):\n",
    "        print(i)"
   ]
  },
  {
   "cell_type": "code",
   "execution_count": null,
   "id": "81b02f25",
   "metadata": {},
   "outputs": [],
   "source": []
  }
 ],
 "metadata": {
  "kernelspec": {
   "display_name": "Python 3",
   "language": "python",
   "name": "python3"
  },
  "language_info": {
   "codemirror_mode": {
    "name": "ipython",
    "version": 3
   },
   "file_extension": ".py",
   "mimetype": "text/x-python",
   "name": "python",
   "nbconvert_exporter": "python",
   "pygments_lexer": "ipython3",
   "version": "3.8.8"
  }
 },
 "nbformat": 4,
 "nbformat_minor": 5
}
